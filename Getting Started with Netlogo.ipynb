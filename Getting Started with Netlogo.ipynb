{
 "cells": [
  {
   "cell_type": "markdown",
   "metadata": {},
   "source": [
    "Netlogo is often run from its own GUI, but it can also be run 'headless'; that is to say, run from the command line or from within another program, in the background. That is what we are doing here from this notebook. We will use the [RNetLogo package](https://www.jstatsoft.org/article/view/v058i02) to interface between R and Netlogo. This gives us the advantage of gathering data for analysis within R while running models written in the nlogo language. We can write models using Python or other langugages, but Netlogo's language is particularly well-suited for agent modeling."
   ]
  },
  {
   "cell_type": "code",
   "execution_count": 1,
   "metadata": {},
   "outputs": [
    {
     "name": "stderr",
     "output_type": "stream",
     "text": [
      "Loading required package: rJava\n",
      "Loading required package: igraph\n",
      "\n",
      "Attaching package: ‘igraph’\n",
      "\n",
      "The following objects are masked from ‘package:stats’:\n",
      "\n",
      "    decompose, spectrum\n",
      "\n",
      "The following object is masked from ‘package:base’:\n",
      "\n",
      "    union\n",
      "\n"
     ]
    }
   ],
   "source": [
    "library(\"RNetLogo\")"
   ]
  },
  {
   "cell_type": "markdown",
   "metadata": {},
   "source": [
    "We tell R where to find Netlogo"
   ]
  },
  {
   "cell_type": "code",
   "execution_count": 9,
   "metadata": {},
   "outputs": [],
   "source": [
    "nl.path <- \"/home/jovyan/NetLogo 6.0.4/app\""
   ]
  },
  {
   "cell_type": "markdown",
   "metadata": {},
   "source": [
    "And then we start Netlogo up. "
   ]
  },
  {
   "cell_type": "code",
   "execution_count": 12,
   "metadata": {},
   "outputs": [
    {
     "ename": "ERROR",
     "evalue": "Error in .jcall(preobj, \"S\", \"cpsettings\", .jnew(\"java/lang/String\", nl.path), : java.awt.HeadlessException: \nNo X11 DISPLAY variable was set, but this program performed an operation which requires it.\n",
     "output_type": "error",
     "traceback": [
      "Error in .jcall(preobj, \"S\", \"cpsettings\", .jnew(\"java/lang/String\", nl.path), : java.awt.HeadlessException: \nNo X11 DISPLAY variable was set, but this program performed an operation which requires it.\nTraceback:\n",
      "1. NLStart(nl.path, gui = FALSE, nl.jarname = \"netlogo-6.0.4.jar\")",
      "2. Prepro(nl.path, nl.jarname)",
      "3. .jcall(preobj, \"S\", \"cpsettings\", .jnew(\"java/lang/String\", nl.path), \n .     .jnew(\"java/lang/String\", jarname))",
      "4. .jcheck(silent = FALSE)"
     ]
    }
   ],
   "source": [
    "NLStart(nl.path, gui = FALSE, nl.jarname = \"netlogo-6.0.4.jar\")"
   ]
  },
  {
   "cell_type": "code",
   "execution_count": null,
   "metadata": {},
   "outputs": [],
   "source": []
  }
 ],
 "metadata": {
  "kernelspec": {
   "display_name": "R",
   "language": "R",
   "name": "ir"
  },
  "language_info": {
   "codemirror_mode": "r",
   "file_extension": ".r",
   "mimetype": "text/x-r-source",
   "name": "R",
   "pygments_lexer": "r",
   "version": "3.4.4"
  }
 },
 "nbformat": 4,
 "nbformat_minor": 2
}

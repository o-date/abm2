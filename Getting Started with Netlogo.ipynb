{
 "cells": [
  {
   "cell_type": "markdown",
   "metadata": {},
   "source": [
    "Netlogo is often run from its own GUI, but it can also be run 'headless'; that is to say, run from the command line or from within another program, in the background. That is what we are doing here from this notebook. We will use the [NLRX package](https://nldoc.github.io/nlrx/) to interface between R and Netlogo. This gives us the advantage of gathering data for analysis within R while running models written in the nlogo language. We can write models using Python or other langugages, but Netlogo's language is particularly well-suited for agent modeling."
   ]
  },
  {
   "cell_type": "code",
   "execution_count": 7,
   "metadata": {},
   "outputs": [],
   "source": [
    "# this package was installed during the creation of the binder\n",
    "# if you get an error running this line:\n",
    "library(\"nlrx\", lib.loc=\"/srv/rlibs\")\n",
    "\n",
    "# insert the following line into a block *above* this one, remove the #, and then run it:\n",
    "# devtools::install_github(\"nldoc/nlrx\")"
   ]
  },
  {
   "cell_type": "markdown",
   "metadata": {},
   "source": [
    "We create a variable, `nl`, that tells the package where to find Netlogo (which we installed when we built this binder), where to find the model, written in `nlogo` code, and how much memory to set aside for the java virtual machine that will run the model."
   ]
  },
  {
   "cell_type": "code",
   "execution_count": 8,
   "metadata": {},
   "outputs": [],
   "source": [
    "nl <- nl(nlversion = \"6.0.4\",\n",
    "         nlpath = \"/home/jovyan/NetLogo 6.0.4/\",\n",
    "         modelpath = \"/home/jovyan/NetLogo 6.0.4/app/models/Sample Models/Biology/Wolf Sheep Predation.nlogo\",\n",
    "         jvmmem = 1024)"
   ]
  },
  {
   "cell_type": "markdown",
   "metadata": {},
   "source": [
    "Now, let's define the experiment that we are going to run, by specifying all of the various parameters available in the model."
   ]
  },
  {
   "cell_type": "code",
   "execution_count": 9,
   "metadata": {},
   "outputs": [],
   "source": [
    "nl@experiment <- experiment(expname=\"wolf-sheep\",\n",
    "                            outpath=\"./out/\",\n",
    "                            repetition=1,\n",
    "                            tickmetrics=\"true\",\n",
    "                            idsetup=\"setup\",\n",
    "                            idgo=\"go\",\n",
    "                            idfinal=NA_character_,\n",
    "                            idrunnum=NA_character_,\n",
    "                            runtime=50,\n",
    "                            evalticks=seq(40,50),\n",
    "                            metrics=c(\"count sheep\", \"count wolves\", \"count patches with [pcolor = green]\"),\n",
    "                            variables = list('initial-number-sheep' = list(min=50, max=150, step=10, qfun=\"qunif\"),\n",
    "                                             'initial-number-wolves' = list(min=50, max=150, step=10, qfun=\"qunif\")),\n",
    "                            constants = list(\"model-version\" = \"\\\"sheep-wolves-grass\\\"\",\n",
    "                                             \"grass-regrowth-time\" = 30,\n",
    "                                             \"sheep-gain-from-food\" = 4,\n",
    "                                             \"wolf-gain-from-food\" = 20,\n",
    "                                             \"sheep-reproduce\" = 4,\n",
    "                                             \"wolf-reproduce\" = 5,\n",
    "                                             \"show-energy?\" = \"false\"))"
   ]
  },
  {
   "cell_type": "markdown",
   "metadata": {},
   "source": [
    "From the nlrx package documentation: \"While the experiment defines the variables and specifications of the model, the simulation design creates a parameter input table based on these model specifications and the chosen simulation design method. nlrx provides a bunch of different simulation designs, such as full-factorial, latin-hypercube, sobol, morris and eFast. A simulation design is attached to a nl object by using one of these simdesign functions:\""
   ]
  },
  {
   "cell_type": "code",
   "execution_count": 10,
   "metadata": {},
   "outputs": [
    {
     "name": "stderr",
     "output_type": "stream",
     "text": [
      "Creating latin hypercube simulation design\n"
     ]
    }
   ],
   "source": [
    "nl@simdesign <- simdesign_lhs(nl=nl,\n",
    "                               samples=100,\n",
    "                               nseeds=3,\n",
    "                               precision=3)"
   ]
  },
  {
   "cell_type": "markdown",
   "metadata": {},
   "source": [
    "Now we run the simulation"
   ]
  },
  {
   "cell_type": "code",
   "execution_count": null,
   "metadata": {},
   "outputs": [],
   "source": [
    "future::plan(multisession)\n",
    "\n",
    "results %<-% run_nl_all(nl = nl, cleanup = \"all\")"
   ]
  }
 ],
 "metadata": {
  "kernelspec": {
   "display_name": "R",
   "language": "R",
   "name": "ir"
  },
  "language_info": {
   "codemirror_mode": "r",
   "file_extension": ".r",
   "mimetype": "text/x-r-source",
   "name": "R",
   "pygments_lexer": "r",
   "version": "3.4.4"
  }
 },
 "nbformat": 4,
 "nbformat_minor": 2
}
